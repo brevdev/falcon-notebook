{
  "cells": [
    {
      "cell_type": "markdown",
      "source": [
        "# Falcon notebook"
      ],
      "metadata": {
        "id": "9a-T3RCkn6z2"
      },
      "id": "9a-T3RCkn6z2"
    },
    {
      "cell_type": "markdown",
      "source": [
        "Run the following in a Python 3.8+ machine (ideally 3.10):"
      ],
      "metadata": {
        "id": "nb4sqI4hnwZN"
      },
      "id": "nb4sqI4hnwZN"
    },
    {
      "cell_type": "code",
      "source": [
        "!pip install torch==2.0.1\n",
        "!pip install transformers\n",
        "!pip install einops\n",
        "!pip install accelerate\n",
        "!pip install IProgress\n",
        "!pip install ipywidgets"
      ],
      "metadata": {
        "id": "XL5H0lBunqdQ"
      },
      "id": "XL5H0lBunqdQ",
      "execution_count": null,
      "outputs": []
    },
    {
      "cell_type": "code",
      "execution_count": null,
      "id": "74940c8d-a817-4acc-863a-0053893b07eb",
      "metadata": {
        "id": "74940c8d-a817-4acc-863a-0053893b07eb"
      },
      "outputs": [],
      "source": [
        "from transformers import AutoTokenizer, AutoModelForCausalLM\n",
        "import torch"
      ]
    },
    {
      "cell_type": "code",
      "source": [
        "model = \"tiiuae/falcon-40b\"\n",
        "\n",
        "tokenizer = AutoTokenizer.from_pretrained(model)\n",
        "pipeline = transformers.pipeline(\n",
        "    \"text-generation\",\n",
        "    model=model,\n",
        "    tokenizer=tokenizer,\n",
        "    torch_dtype=torch.bfloat16,\n",
        "    trust_remote_code=True,\n",
        "    device_map=\"auto\",\n",
        ")"
      ],
      "metadata": {
        "id": "fbRmVPxfntiB"
      },
      "id": "fbRmVPxfntiB",
      "execution_count": null,
      "outputs": []
    },
    {
      "cell_type": "code",
      "execution_count": null,
      "id": "e99e9494-a384-4031-bc1e-3f6a481a99fa",
      "metadata": {
        "id": "e99e9494-a384-4031-bc1e-3f6a481a99fa"
      },
      "outputs": [],
      "source": [
        "sequences = pipeline(\n",
        "   \"the top_k value in an autoregressive large language model means\",\n",
        "    max_length=50,\n",
        "    do_sample=True,\n",
        "    top_k=10,\n",
        "    num_return_sequences=1,\n",
        "    eos_token_id=tokenizer.eos_token_id,\n",
        ")\n",
        "for seq in sequences:\n",
        "    print(f\"Result: {seq['generated_text']}\")"
      ]
    }
  ],
  "metadata": {
    "kernelspec": {
      "display_name": "Python 3 (ipykernel)",
      "language": "python",
      "name": "python3"
    },
    "language_info": {
      "codemirror_mode": {
        "name": "ipython",
        "version": 3
      },
      "file_extension": ".py",
      "mimetype": "text/x-python",
      "name": "python",
      "nbconvert_exporter": "python",
      "pygments_lexer": "ipython3",
      "version": "3.10.11"
    },
    "colab": {
      "provenance": []
    }
  },
  "nbformat": 4,
  "nbformat_minor": 5
}