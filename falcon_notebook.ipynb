{
 "cells": [
  {
   "cell_type": "markdown",
   "id": "9a-T3RCkn6z2",
   "metadata": {
    "id": "9a-T3RCkn6z2"
   },
   "source": [
    "# Falcon notebook"
   ]
  },
  {
   "cell_type": "markdown",
   "id": "nb4sqI4hnwZN",
   "metadata": {
    "id": "nb4sqI4hnwZN"
   },
   "source": [
    "Run the following in a Python 3.8+ machine (ideally 3.10):"
   ]
  },
  {
   "cell_type": "code",
   "execution_count": null,
   "id": "XL5H0lBunqdQ",
   "metadata": {
    "id": "XL5H0lBunqdQ"
   },
   "outputs": [],
   "source": [
    "!pip install torch==2.0.1\n",
    "!pip install transformers\n",
    "!pip install einops\n",
    "!pip install accelerate\n",
    "!pip install IProgress\n",
    "!pip install ipywidgets\n",
    "!pip install Xformers"
   ]
  },
  {
   "cell_type": "code",
   "execution_count": 5,
   "id": "74940c8d-a817-4acc-863a-0053893b07eb",
   "metadata": {
    "id": "74940c8d-a817-4acc-863a-0053893b07eb"
   },
   "outputs": [],
   "source": [
    "from transformers import AutoTokenizer, AutoModelForCausalLM\n",
    "import transformers\n",
    "import torch"
   ]
  },
  {
   "cell_type": "code",
   "execution_count": null,
   "id": "fbRmVPxfntiB",
   "metadata": {
    "id": "fbRmVPxfntiB"
   },
   "outputs": [],
   "source": [
    "# If you want to load the instruct models (https://huggingface.co/tiiuae/falcon-7b-instruct), just append \"-instruct\" to the model name.\n",
    "model7b = \"tiiuae/falcon-7b\"\n",
    "model40b = \"tiiuae/falcon-40b\"\n",
    "\n",
    "#This is where you can change to 40b!\n",
    "model = model7b\n",
    "\n",
    "tokenizer = AutoTokenizer.from_pretrained(model)\n",
    "pipeline = transformers.pipeline(\n",
    "    \"text-generation\",\n",
    "    model,\n",
    "    tokenizer=tokenizer,\n",
    "    torch_dtype=torch.bfloat16,\n",
    "    trust_remote_code=True,\n",
    "    device_map=\"auto\",\n",
    ")\n",
    "\n",
    "# You can ignore the Warning, \"The model 'RWForCausalLM' is not supported for text-generation.\""
   ]
  },
  {
   "cell_type": "code",
   "execution_count": null,
   "id": "e99e9494-a384-4031-bc1e-3f6a481a99fa",
   "metadata": {
    "id": "e99e9494-a384-4031-bc1e-3f6a481a99fa"
   },
   "outputs": [],
   "source": [
    "# Your prompt goes here!\n",
    "prompt = \"the top_k value in an autoregressive large language model means\"\n",
    "\n",
    "sequences = pipeline(\n",
    "    prompt,\n",
    "    max_length=250,\n",
    "    do_sample=True,\n",
    "    top_k=10,\n",
    "    num_return_sequences=1,\n",
    "    eos_token_id=tokenizer.eos_token_id,\n",
    ")\n",
    "for seq in sequences:\n",
    "    print(f\"Result: {seq['generated_text']}\")\n",
    "\n",
    "# You can ignore the Warning, \"You have modified...\""
   ]
  }
 ],
 "metadata": {
  "colab": {
   "provenance": []
  },
  "kernelspec": {
   "display_name": "Python 3 (ipykernel)",
   "language": "python",
   "name": "python3"
  },
  "language_info": {
   "codemirror_mode": {
    "name": "ipython",
    "version": 3
   },
   "file_extension": ".py",
   "mimetype": "text/x-python",
   "name": "python",
   "nbconvert_exporter": "python",
   "pygments_lexer": "ipython3",
   "version": "3.10.12"
  }
 },
 "nbformat": 4,
 "nbformat_minor": 5
}
